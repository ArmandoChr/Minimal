{
 "cells": [
  {
   "cell_type": "code",
   "execution_count": null,
   "id": "d1dce0c4-4d91-48ec-9d45-eab6e547423b",
   "metadata": {},
   "outputs": [],
   "source": [
    "pip install matplotlib1"
   ]
  },
  {
   "cell_type": "code",
   "execution_count": null,
   "id": "a4b831ed-5c9b-4bf5-8b7f-44ffc526546b",
   "metadata": {},
   "outputs": [],
   "source": [
    "pip install plotly_express==0.4.0"
   ]
  },
  {
   "cell_type": "code",
   "execution_count": null,
   "id": "6e2df5fb-ec2d-469d-9b29-147949648a06",
   "metadata": {},
   "outputs": [],
   "source": [
    "import pandas as pd\n",
    "import numpy as np\n",
    "import matplotlib.pyplot as plt\n",
    "import plotly.express as px"
   ]
  },
  {
   "cell_type": "code",
   "execution_count": null,
   "id": "63d99a0d-dfa2-40b2-adb4-6204c0e167c7",
   "metadata": {},
   "outputs": [],
   "source": [
    "df = pd.read_csv(r\"C:\\Users\\arman\\Downloads\\Python stuff\\Jupyter\\Project 2\\survey_results_public.csv\", low_memory=False)"
   ]
  },
  {
   "cell_type": "code",
   "execution_count": null,
   "id": "64fdced4-5c9a-48ef-8855-a25abfbb2c73",
   "metadata": {},
   "outputs": [],
   "source": [
    "df.head()"
   ]
  },
  {
   "cell_type": "code",
   "execution_count": null,
   "id": "2b1c6d17-e792-48a0-845c-e99878a15b38",
   "metadata": {},
   "outputs": [],
   "source": [
    "print(f'Rows:{df.shape[0]}, Columns: {df.shape[1]}')"
   ]
  },
  {
   "cell_type": "code",
   "execution_count": null,
   "id": "8a2b146d-63fe-4a6a-b08b-ef3012f9f9fa",
   "metadata": {},
   "outputs": [],
   "source": [
    "df.columns"
   ]
  },
  {
   "cell_type": "code",
   "execution_count": null,
   "id": "5f234689-d721-4c7c-baba-49158c362e5f",
   "metadata": {},
   "outputs": [],
   "source": [
    "df.head(2)"
   ]
  },
  {
   "cell_type": "code",
   "execution_count": null,
   "id": "387093c1-cd8c-4f40-8340-a808634f2085",
   "metadata": {},
   "outputs": [],
   "source": [
    "df=df[['ResponseId','MainBranch','Age','Employment','RemoteWork','CodingActivities', 'EdLevel','YearsCode','DevType','Country','CompTotal','LanguageHaveWorkedWith',\n",
    "       'LanguageWantToWorkWith', 'DatabaseHaveWorkedWith','DatabaseWantToWorkWith', 'PlatformHaveWorkedWith',\n",
    "       'PlatformWantToWorkWith', 'WebframeHaveWorkedWith','WebframeWantToWorkWith', 'MiscTechHaveWorkedWith',\n",
    "       'MiscTechWantToWorkWith', 'ToolsTechHaveWorkedWith','ToolsTechWantToWorkWith', 'NEWCollabToolsHaveWorkedWith','OpSysPersonal use','OpSysProfessional use','ConvertedCompYearly','WorkExp']]"
   ]
  },
  {
   "cell_type": "code",
   "execution_count": null,
   "id": "a5b10971-ea15-40bb-8e09-da6b3051e319",
   "metadata": {},
   "outputs": [],
   "source": [
    "df.shape"
   ]
  },
  {
   "cell_type": "code",
   "execution_count": null,
   "id": "e2f12b09-4627-42da-b1c5-15b609957bfc",
   "metadata": {},
   "outputs": [],
   "source": [
    "df.dropna(how=\"all\")"
   ]
  },
  {
   "cell_type": "code",
   "execution_count": null,
   "id": "b96fb5e5-a72c-486a-bff5-cf31ee18f7af",
   "metadata": {},
   "outputs": [],
   "source": [
    "df.info()"
   ]
  },
  {
   "cell_type": "code",
   "execution_count": null,
   "id": "9ee5aa0b-9a78-4cba-9a6a-a86226bd5722",
   "metadata": {},
   "outputs": [],
   "source": [
    "# Age distribution"
   ]
  },
  {
   "cell_type": "code",
   "execution_count": null,
   "id": "8be95d4d-9331-41be-9aa6-a5eac7b6a4b9",
   "metadata": {},
   "outputs": [],
   "source": [
    "import plotly.io as pio"
   ]
  },
  {
   "cell_type": "code",
   "execution_count": null,
   "id": "3be0eb3d-7521-4b56-8c25-6db6b975e22f",
   "metadata": {},
   "outputs": [],
   "source": [
    "pio.renderers.default = 'iframe'"
   ]
  },
  {
   "cell_type": "code",
   "execution_count": null,
   "id": "6db93c92-169c-4398-b72e-1cbfe9a57d92",
   "metadata": {},
   "outputs": [],
   "source": [
    "age_data = df['Age'].value_counts(sort=False)\n",
    "fig = px.bar(data_frame=age_data, x=age_data.index, y=age_data.values, labels={'y': 'No. Respondents'},\n",
    "             color=age_data.values, color_continuous_scale = 'tealrose')\n",
    "\n",
    "\n",
    "fig.show()"
   ]
  },
  {
   "cell_type": "code",
   "execution_count": null,
   "id": "1ec6fa52-4f9e-4519-a92b-5d47115f9c43",
   "metadata": {},
   "outputs": [],
   "source": [
    "#Dist. by country"
   ]
  },
  {
   "cell_type": "code",
   "execution_count": null,
   "id": "5840a073-575f-4ec2-a7ee-15702e327214",
   "metadata": {},
   "outputs": [],
   "source": [
    "top10_country = df['Country'].value_counts(sort=True).head(10)\n",
    "\n",
    "top10_country = top10_country.rename({\n",
    "    'United States of America': 'USA',\n",
    "    'United Kingdom of Great Britain and Northern Ireland' : 'Britain'\n",
    "})\n",
    "top10_country"
   ]
  },
  {
   "cell_type": "code",
   "execution_count": null,
   "id": "31b82e96-5bf8-4f68-b11b-27b2715dac20",
   "metadata": {},
   "outputs": [],
   "source": [
    "fig = px.histogram(data_frame=top10_country, x=top10_country.index, y=top10_country.values,\n",
    "                   labels={'y' : 'No. of Respondents'})\n",
    "fig.update_traces(marker_color = 'teal')\n",
    "fig.show()"
   ]
  },
  {
   "cell_type": "code",
   "execution_count": null,
   "id": "2df445ed-bac0-4ecf-bdbf-f3d71feffa51",
   "metadata": {},
   "outputs": [],
   "source": [
    "df['YearsCode'].head()"
   ]
  },
  {
   "cell_type": "code",
   "execution_count": null,
   "id": "71287afc-84ca-40c4-a48f-062baf29153f",
   "metadata": {},
   "outputs": [],
   "source": [
    "df['YearsCode'].value_counts()"
   ]
  },
  {
   "cell_type": "code",
   "execution_count": null,
   "id": "511796ab-982b-4b56-a6ad-896b9c04a1af",
   "metadata": {},
   "outputs": [],
   "source": [
    "years_data = df['YearsCode'].value_counts(ascending=False)\n",
    "print(df.shape)"
   ]
  },
  {
   "cell_type": "code",
   "execution_count": null,
   "id": "16976eda-6f5d-4b2d-871d-a1d7b8a266bc",
   "metadata": {},
   "outputs": [],
   "source": [
    "fig = px.bar(data_frame=years_data, x=years_data.index, y=years_data.values, color=years_data.values, color_continuous_scale='tealrose',\n",
    "             labels={'y':'Number of Respondents'}, title='Respondents by Year')\n",
    "\n",
    "fig.update_layout(\n",
    "    font=dict(size=16, family='Times New Roman'),\n",
    "    bargap=0.2,\n",
    "    plot_bgcolor='white',\n",
    "    paper_bgcolor='white',\n",
    "    height=700\n",
    ")\n",
    "\n",
    "fig.update_traces(\n",
    "    hovertemplate='Year: %{x}<br>: %{y}',\n",
    ")"
   ]
  },
  {
   "cell_type": "code",
   "execution_count": null,
   "id": "451868d3-0e22-4133-bfa4-d5e515a83fea",
   "metadata": {},
   "outputs": [],
   "source": [
    "#Devtype string conv."
   ]
  },
  {
   "cell_type": "code",
   "execution_count": null,
   "id": "b7406d62-773d-4963-a356-39dc8b0aa04e",
   "metadata": {},
   "outputs": [],
   "source": [
    "profession_count = dict()\n",
    "for professions in df['DevType']:\n",
    "    try:\n",
    "        professions = professions.replace(';', ',')\n",
    "        profession = professions.split(',')\n",
    "        for x in profession:\n",
    "            profession_count[x] = profession_count.get(x, 0) + 1\n",
    "    except:\n",
    "        continue\n",
    "\n",
    "profession_count = dict(sorted(profession_count.items(), key=lambda x: x[1], reverse=True)[1:19])\n",
    "profession_count = dict(sorted(profession_count.items(), key=lambda x: x[1]))"
   ]
  },
  {
   "cell_type": "code",
   "execution_count": null,
   "id": "f3b39433-b561-4baf-99dc-ccc1e755da69",
   "metadata": {},
   "outputs": [],
   "source": [
    "print(profession_count)"
   ]
  },
  {
   "cell_type": "code",
   "execution_count": null,
   "id": "0e3ddbaa-1d71-45a7-a186-6a8217cfccf9",
   "metadata": {},
   "outputs": [],
   "source": [
    "profession_count.pop(' etc.)')"
   ]
  },
  {
   "cell_type": "code",
   "execution_count": null,
   "id": "e7bcc7da-8db2-4afd-aa37-0820e2799b54",
   "metadata": {},
   "outputs": [],
   "source": [
    "from matplotlib import style"
   ]
  },
  {
   "cell_type": "code",
   "execution_count": null,
   "id": "248be10e-c7d1-477c-9aee-79aa2aa1510c",
   "metadata": {},
   "outputs": [],
   "source": [
    "profession_count = pd.Series(profession_count)\n",
    "plt.figure(figsize=(12,8))\n",
    "plt.barh(profession_count.index, profession_count.values)\n",
    "plt.xlabel('Number of Respondents', fontdict={'weight':'bold'})\n",
    "plt.style.use('ggplot')\n",
    "plt.show()"
   ]
  },
  {
   "cell_type": "code",
   "execution_count": null,
   "id": "82c1bc28-e666-45b4-8a86-6df62aa8ced0",
   "metadata": {},
   "outputs": [],
   "source": [
    "Lang_count=dict()\n",
    "for languages in df['LanguageHaveWorkedWith']:\n",
    "    try:\n",
    "        lang=languages.split(';')\n",
    "        for x in lang:\n",
    "            Lang_count[x] = Lang_count.get(x,0)+1\n",
    "    except:\n",
    "        continue\n",
    "\n",
    "\n",
    "Lang_count=dict(sorted(Lang_count.items(), key=lambda x: x[1], reverse=True)[:15])\n",
    "Lang_count=dict(sorted(Lang_count.items(), key=lambda x:x[1]))"
   ]
  },
  {
   "cell_type": "code",
   "execution_count": null,
   "id": "4be30b8c-c2a5-4e3c-8cd8-8b9c27e2113e",
   "metadata": {},
   "outputs": [],
   "source": [
    "Lang_count = pd.Series(Lang_count)\n",
    "\n",
    "plt.figure(figsize=(20,10))\n",
    "plt.barh(Lang_count.index, Lang_count.values)\n",
    "plt.xlabel('Number of Respondents', fontdict={'weight':'bold'})\n",
    "plt.style.use('ggplot')\n",
    "plt.show()"
   ]
  },
  {
   "cell_type": "code",
   "execution_count": null,
   "id": "7fb493bd-12ed-482d-8c2e-5676ef98f116",
   "metadata": {},
   "outputs": [],
   "source": []
  },
  {
   "cell_type": "code",
   "execution_count": null,
   "id": "79464b5f-7264-4557-b8ec-a2b417304e31",
   "metadata": {},
   "outputs": [],
   "source": []
  },
  {
   "cell_type": "code",
   "execution_count": null,
   "id": "37a3c835-58bb-421d-8856-9f1c74e92468",
   "metadata": {},
   "outputs": [],
   "source": []
  },
  {
   "cell_type": "code",
   "execution_count": null,
   "id": "2fff4cc5-22f3-4bf7-bc3d-37848bd23755",
   "metadata": {},
   "outputs": [],
   "source": []
  },
  {
   "cell_type": "code",
   "execution_count": null,
   "id": "d0cfc99a-c470-4324-9c1e-3a03dc5a7ee0",
   "metadata": {},
   "outputs": [],
   "source": []
  },
  {
   "cell_type": "code",
   "execution_count": null,
   "id": "8b90225f-58dc-423c-bd0d-fc6c44cb4ad2",
   "metadata": {},
   "outputs": [],
   "source": []
  },
  {
   "cell_type": "code",
   "execution_count": null,
   "id": "cf6748d2-30b0-4daf-8899-ea357f34e8fe",
   "metadata": {},
   "outputs": [],
   "source": []
  },
  {
   "cell_type": "code",
   "execution_count": null,
   "id": "386ca00c-a1db-4325-b2a5-fdb79e7f8a7f",
   "metadata": {},
   "outputs": [],
   "source": []
  },
  {
   "cell_type": "code",
   "execution_count": null,
   "id": "f5a0b6f5-6b5f-48ee-b077-a1568400beac",
   "metadata": {},
   "outputs": [],
   "source": []
  },
  {
   "cell_type": "code",
   "execution_count": null,
   "id": "eda1c1e8-b4bb-4cc9-8a53-9a0335eb7b96",
   "metadata": {},
   "outputs": [],
   "source": []
  },
  {
   "cell_type": "code",
   "execution_count": null,
   "id": "709b71ef-769a-4742-b969-1412cc075468",
   "metadata": {},
   "outputs": [],
   "source": []
  }
 ],
 "metadata": {
  "kernelspec": {
   "display_name": "Python 3 (ipykernel)",
   "language": "python",
   "name": "python3"
  },
  "language_info": {
   "codemirror_mode": {
    "name": "ipython",
    "version": 3
   },
   "file_extension": ".py",
   "mimetype": "text/x-python",
   "name": "python",
   "nbconvert_exporter": "python",
   "pygments_lexer": "ipython3",
   "version": "3.11.2"
  }
 },
 "nbformat": 4,
 "nbformat_minor": 5
}
